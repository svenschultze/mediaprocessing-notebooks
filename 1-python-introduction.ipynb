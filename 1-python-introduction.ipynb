{
  "nbformat": 4,
  "nbformat_minor": 0,
  "metadata": {
    "colab": {
      "name": "python-introduction.ipynb",
      "provenance": [],
      "collapsed_sections": [],
      "include_colab_link": true
    },
    "kernelspec": {
      "name": "python3",
      "display_name": "Python 3"
    }
  },
  "cells": [
    {
      "cell_type": "markdown",
      "metadata": {
        "id": "view-in-github",
        "colab_type": "text"
      },
      "source": [
        "<a href=\"https://colab.research.google.com/github/svenschultze/mediaprocessing-notebooks/blob/master/1-python-introduction.ipynb\" target=\"_parent\"><img src=\"https://colab.research.google.com/assets/colab-badge.svg\" alt=\"Open In Colab\"/></a>"
      ]
    },
    {
      "cell_type": "markdown",
      "metadata": {
        "id": "57KQynln52P1",
        "colab_type": "text"
      },
      "source": [
        "# Introduction to Python"
      ]
    },
    {
      "cell_type": "code",
      "metadata": {
        "id": "ujT4L8DdtQ0W",
        "colab_type": "code",
        "colab": {
          "base_uri": "https://localhost:8080/",
          "height": 34
        },
        "outputId": "08505586-5b8d-4d8b-c364-84b2cc4c56ab"
      },
      "source": [
        "print(\"hello world\")"
      ],
      "execution_count": 1,
      "outputs": [
        {
          "output_type": "stream",
          "text": [
            "hello world\n"
          ],
          "name": "stdout"
        }
      ]
    },
    {
      "cell_type": "markdown",
      "metadata": {
        "id": "qTR2TwaR8Gcs",
        "colab_type": "text"
      },
      "source": [
        "In Python, we can define variables like this:"
      ]
    },
    {
      "cell_type": "code",
      "metadata": {
        "id": "pb1APxFR8NWA",
        "colab_type": "code",
        "colab": {}
      },
      "source": [
        "a = 10 # integer\n",
        "b = 5.0 # float\n",
        "c = \"hello world\" # string\n",
        "d = True # boolean\n",
        "e = [a, b, c, d] # list"
      ],
      "execution_count": 0,
      "outputs": []
    },
    {
      "cell_type": "markdown",
      "metadata": {
        "id": "kue9za7B-t51",
        "colab_type": "text"
      },
      "source": [
        "With the **type** operation, we can get the data type of a variable."
      ]
    },
    {
      "cell_type": "code",
      "metadata": {
        "id": "MdQjZ85u-iBk",
        "colab_type": "code",
        "colab": {
          "base_uri": "https://localhost:8080/",
          "height": 34
        },
        "outputId": "acdfa92d-52ad-4742-a060-19e8f4f78651"
      },
      "source": [
        "type(c)"
      ],
      "execution_count": 7,
      "outputs": [
        {
          "output_type": "execute_result",
          "data": {
            "text/plain": [
              "str"
            ]
          },
          "metadata": {
            "tags": []
          },
          "execution_count": 7
        }
      ]
    },
    {
      "cell_type": "markdown",
      "metadata": {
        "id": "GlwILfm2-_SL",
        "colab_type": "text"
      },
      "source": [
        "To cast a variable, we use the desired data type as a function:"
      ]
    },
    {
      "cell_type": "code",
      "metadata": {
        "id": "RaVby4Q4_HPt",
        "colab_type": "code",
        "colab": {
          "base_uri": "https://localhost:8080/",
          "height": 34
        },
        "outputId": "0937873f-2e20-4eca-fed6-2f9215a7295b"
      },
      "source": [
        "float(a)"
      ],
      "execution_count": 8,
      "outputs": [
        {
          "output_type": "execute_result",
          "data": {
            "text/plain": [
              "10.0"
            ]
          },
          "metadata": {
            "tags": []
          },
          "execution_count": 8
        }
      ]
    },
    {
      "cell_type": "markdown",
      "metadata": {
        "id": "4ovPgHZd8Uez",
        "colab_type": "text"
      },
      "source": [
        "There are several basic operations in Python:"
      ]
    },
    {
      "cell_type": "code",
      "metadata": {
        "id": "JfAawSVX8U-7",
        "colab_type": "code",
        "colab": {
          "base_uri": "https://localhost:8080/",
          "height": 34
        },
        "outputId": "d4b99b15-c597-4512-9dd7-fb9c505ffe25"
      },
      "source": [
        "# Addition\n",
        "a + b"
      ],
      "execution_count": 11,
      "outputs": [
        {
          "output_type": "execute_result",
          "data": {
            "text/plain": [
              "15.0"
            ]
          },
          "metadata": {
            "tags": []
          },
          "execution_count": 11
        }
      ]
    },
    {
      "cell_type": "code",
      "metadata": {
        "id": "yi2CJRWPBFFU",
        "colab_type": "code",
        "colab": {
          "base_uri": "https://localhost:8080/",
          "height": 34
        },
        "outputId": "facff032-9b6b-4b4f-8ba7-525ddc86b871"
      },
      "source": [
        "# Subtraction\n",
        "a - b"
      ],
      "execution_count": 12,
      "outputs": [
        {
          "output_type": "execute_result",
          "data": {
            "text/plain": [
              "5.0"
            ]
          },
          "metadata": {
            "tags": []
          },
          "execution_count": 12
        }
      ]
    },
    {
      "cell_type": "code",
      "metadata": {
        "id": "JFsj6GzJBI9k",
        "colab_type": "code",
        "colab": {
          "base_uri": "https://localhost:8080/",
          "height": 34
        },
        "outputId": "709ecbb6-c098-4861-88ee-5cf7d77818a4"
      },
      "source": [
        "# Multiplication\n",
        "a * b"
      ],
      "execution_count": 13,
      "outputs": [
        {
          "output_type": "execute_result",
          "data": {
            "text/plain": [
              "50.0"
            ]
          },
          "metadata": {
            "tags": []
          },
          "execution_count": 13
        }
      ]
    },
    {
      "cell_type": "code",
      "metadata": {
        "id": "z2eXBew7BP4J",
        "colab_type": "code",
        "colab": {
          "base_uri": "https://localhost:8080/",
          "height": 34
        },
        "outputId": "17d4915d-6f23-41c0-d12f-76fd4aa2a6a1"
      },
      "source": [
        "# Division\n",
        "a / b"
      ],
      "execution_count": 16,
      "outputs": [
        {
          "output_type": "execute_result",
          "data": {
            "text/plain": [
              "2.0"
            ]
          },
          "metadata": {
            "tags": []
          },
          "execution_count": 16
        }
      ]
    },
    {
      "cell_type": "code",
      "metadata": {
        "id": "qXASqRB5BWZq",
        "colab_type": "code",
        "colab": {
          "base_uri": "https://localhost:8080/",
          "height": 34
        },
        "outputId": "2f9fa367-c422-4dd8-8a91-56861b75f794"
      },
      "source": [
        "# Power\n",
        "a ** b"
      ],
      "execution_count": 18,
      "outputs": [
        {
          "output_type": "execute_result",
          "data": {
            "text/plain": [
              "100000.0"
            ]
          },
          "metadata": {
            "tags": []
          },
          "execution_count": 18
        }
      ]
    },
    {
      "cell_type": "code",
      "metadata": {
        "id": "-_dDdhcPBxkq",
        "colab_type": "code",
        "colab": {
          "base_uri": "https://localhost:8080/",
          "height": 34
        },
        "outputId": "4c0dcd43-ae0d-467e-c4ce-10f58b322a6f"
      },
      "source": [
        "# Modulus\n",
        "a % b"
      ],
      "execution_count": 19,
      "outputs": [
        {
          "output_type": "execute_result",
          "data": {
            "text/plain": [
              "0.0"
            ]
          },
          "metadata": {
            "tags": []
          },
          "execution_count": 19
        }
      ]
    },
    {
      "cell_type": "markdown",
      "metadata": {
        "id": "wt6763JUD7oA",
        "colab_type": "text"
      },
      "source": [
        "In Python, we define if operations like this. The indentation defines, where the block ends:"
      ]
    },
    {
      "cell_type": "code",
      "metadata": {
        "id": "y6eVzT0qB3Dz",
        "colab_type": "code",
        "colab": {
          "base_uri": "https://localhost:8080/",
          "height": 52
        },
        "outputId": "1e522480-76a2-46c9-9d93-6c8507c5e2b8"
      },
      "source": [
        "if a > 5:\n",
        "    print(\"inside if\")\n",
        "print(\"outside if\")"
      ],
      "execution_count": 20,
      "outputs": [
        {
          "output_type": "stream",
          "text": [
            "inside if\n",
            "outside if\n"
          ],
          "name": "stdout"
        }
      ]
    },
    {
      "cell_type": "markdown",
      "metadata": {
        "id": "Snsila8AGyKb",
        "colab_type": "text"
      },
      "source": [
        "To check if an element is inside a list, we can use the **in** operator:"
      ]
    },
    {
      "cell_type": "code",
      "metadata": {
        "id": "6pk3S2ZQIust",
        "colab_type": "code",
        "colab": {
          "base_uri": "https://localhost:8080/",
          "height": 34
        },
        "outputId": "16e0efc4-90c0-4417-d5d4-6a4337a9df7f"
      },
      "source": [
        "a in e"
      ],
      "execution_count": 21,
      "outputs": [
        {
          "output_type": "execute_result",
          "data": {
            "text/plain": [
              "True"
            ]
          },
          "metadata": {
            "tags": []
          },
          "execution_count": 21
        }
      ]
    },
    {
      "cell_type": "code",
      "metadata": {
        "id": "8eimLYRvR0a7",
        "colab_type": "code",
        "colab": {
          "base_uri": "https://localhost:8080/",
          "height": 34
        },
        "outputId": "c053ec07-61d0-4d6f-a84e-2077d481e664"
      },
      "source": [
        "a not in e"
      ],
      "execution_count": 28,
      "outputs": [
        {
          "output_type": "execute_result",
          "data": {
            "text/plain": [
              "False"
            ]
          },
          "metadata": {
            "tags": []
          },
          "execution_count": 28
        }
      ]
    },
    {
      "cell_type": "markdown",
      "metadata": {
        "id": "V5Y07DltI5Ch",
        "colab_type": "text"
      },
      "source": [
        "Similarly, we can define a for loop like this:"
      ]
    },
    {
      "cell_type": "code",
      "metadata": {
        "id": "r-Ivk8r1KQe0",
        "colab_type": "code",
        "colab": {
          "base_uri": "https://localhost:8080/",
          "height": 87
        },
        "outputId": "f3d0307b-fee6-48c9-f623-293dec0413b4"
      },
      "source": [
        "for x in e:\n",
        "    print(x)"
      ],
      "execution_count": 22,
      "outputs": [
        {
          "output_type": "stream",
          "text": [
            "10\n",
            "5.0\n",
            "hello world\n",
            "True\n"
          ],
          "name": "stdout"
        }
      ]
    },
    {
      "cell_type": "markdown",
      "metadata": {
        "id": "YwgSYfdiLEpN",
        "colab_type": "text"
      },
      "source": [
        "We define a while loop like this:"
      ]
    },
    {
      "cell_type": "code",
      "metadata": {
        "id": "iw57g8SrLDxI",
        "colab_type": "code",
        "colab": {
          "base_uri": "https://localhost:8080/",
          "height": 87
        },
        "outputId": "c8cdf6c9-8b38-47af-b303-818e7f6f6e6d"
      },
      "source": [
        "i = 0\n",
        "while True:\n",
        "    print(i)\n",
        "    i += 1\n",
        "    if i > 3:\n",
        "        break"
      ],
      "execution_count": 24,
      "outputs": [
        {
          "output_type": "stream",
          "text": [
            "0\n",
            "1\n",
            "2\n",
            "3\n"
          ],
          "name": "stdout"
        }
      ]
    },
    {
      "cell_type": "markdown",
      "metadata": {
        "id": "KHgtS21gPuyK",
        "colab_type": "text"
      },
      "source": [
        "Now, we can define a function like this:"
      ]
    },
    {
      "cell_type": "code",
      "metadata": {
        "id": "ZAd190097Kz4",
        "colab_type": "code",
        "colab": {
          "base_uri": "https://localhost:8080/",
          "height": 34
        },
        "outputId": "7d73f255-3f38-4834-b850-579709a04ff8"
      },
      "source": [
        "def say_hello_to(name):\n",
        "    print(\"hello\", name)\n",
        "\n",
        "say_hello_to(\"foo\")"
      ],
      "execution_count": 27,
      "outputs": [
        {
          "output_type": "stream",
          "text": [
            "hello foo\n"
          ],
          "name": "stdout"
        }
      ]
    }
  ]
}