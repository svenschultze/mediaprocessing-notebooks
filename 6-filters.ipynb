{
  "nbformat": 4,
  "nbformat_minor": 0,
  "metadata": {
    "colab": {
      "name": "Filters.ipynb",
      "provenance": [],
      "collapsed_sections": [],
      "include_colab_link": true
    },
    "kernelspec": {
      "name": "python3",
      "display_name": "Python 3"
    }
  },
  "cells": [
    {
      "cell_type": "markdown",
      "metadata": {
        "id": "view-in-github",
        "colab_type": "text"
      },
      "source": [
        "<a href=\"https://colab.research.google.com/github/svenschultze/mediaprocessing-notebooks/blob/master/6-filters.ipynb\" target=\"_parent\"><img src=\"https://colab.research.google.com/assets/colab-badge.svg\" alt=\"Open In Colab\"/></a>"
      ]
    },
    {
      "cell_type": "markdown",
      "metadata": {
        "id": "IoF52_wkIEBn",
        "colab_type": "text"
      },
      "source": [
        "# Filters"
      ]
    },
    {
      "cell_type": "code",
      "metadata": {
        "id": "sGKMXyhYzxel",
        "colab_type": "code",
        "colab": {}
      },
      "source": [
        "!wget -q --no-check-certificate 'https://drive.google.com/uc?authuser=0&id=1cOM_WnXJnKmNMiE-cPuJhyGt61kEDyoh&export=download' -O 'colabcam.py'\n",
        "import colabcam\n",
        "from matplotlib import pyplot as plt\n",
        "import numpy as np\n",
        "import cv2\n",
        "\n",
        "from google.colab.patches import cv2_imshow\n",
        "cv2.imshow = cv2_imshow"
      ],
      "execution_count": 0,
      "outputs": []
    },
    {
      "cell_type": "markdown",
      "metadata": {
        "id": "wWBvblRTWIJ1",
        "colab_type": "text"
      },
      "source": [
        "First of all, let's take a picture:"
      ]
    },
    {
      "cell_type": "code",
      "metadata": {
        "id": "EHVfvaWzz1OM",
        "colab_type": "code",
        "colab": {}
      },
      "source": [
        "img = colabcam.take_photo()\n",
        "cv2.imshow(img)"
      ],
      "execution_count": 0,
      "outputs": []
    },
    {
      "cell_type": "markdown",
      "metadata": {
        "id": "py_kTLE8Sadh",
        "colab_type": "text"
      },
      "source": [
        "# Box Filter\n",
        "The box filter is the simplest blurring filter. For each pixel, it calculates the average value of the region around the pixel.  \n",
        "For example, a 5x5 box filter kernel looks like this: \n",
        "\n",
        "$\n",
        "\\frac{1}{25} * \n",
        "\\begin{bmatrix}\n",
        "1 & 1 & 1 & 1 & 1 \\\\\n",
        "1 & 1 & 1 & 1 & 1 \\\\\n",
        "1 & 1 & 1 & 1 & 1 \\\\\n",
        "1 & 1 & 1 & 1 & 1 \\\\\n",
        "1 & 1 & 1 & 1 & 1\n",
        "\\end{bmatrix}\n",
        "$\n",
        "\n",
        "We can apply it in OpenCV with the function `cv2.blur`:"
      ]
    },
    {
      "cell_type": "code",
      "metadata": {
        "id": "5jFSPKuAoe6V",
        "colab_type": "code",
        "colab": {}
      },
      "source": [
        "filtered = cv2.blur(img, ksize=(5, 5))\n",
        "cv2.imshow(filtered)"
      ],
      "execution_count": 0,
      "outputs": []
    },
    {
      "cell_type": "markdown",
      "metadata": {
        "id": "bBmUaIyDzxgm",
        "colab_type": "text"
      },
      "source": [
        "# Gaussian Blur Filter\n",
        "The kernel of the Gaussian blur filter has higher values in the middle and creates a smoother image:\n",
        "\n",
        "$\n",
        "\\begin{bmatrix}\n",
        "0.003765 & 0.015019\t& 0.023792 & 0.015019 & 0.003765 \\\\\n",
        "0.015019 & 0.059912 & 0.094907 & 0.059912 & 0.015019 \\\\\n",
        "0.023792 & 0.094907 & 0.150342 & 0.094907 & 0.023792 \\\\\n",
        "0.015019 & 0.059912 & 0.094907 & 0.059912 & 0.015019\\\\\n",
        "0.003765 & 0.015019 & 0.023792 & 0.015019 & 0.003765\n",
        "\\end{bmatrix}\n",
        "$\n",
        "\n",
        "You can adjust the filter with the `sigmaX` parameter."
      ]
    },
    {
      "cell_type": "code",
      "metadata": {
        "id": "j-tdVB-Wz1hn",
        "colab_type": "code",
        "colab": {}
      },
      "source": [
        "filtered = cv2.GaussianBlur(img, ksize=(5, 5), sigmaX=1)\n",
        "cv2.imshow(filtered)"
      ],
      "execution_count": 0,
      "outputs": []
    },
    {
      "cell_type": "markdown",
      "metadata": {
        "id": "RkIsto9v1QJc",
        "colab_type": "text"
      },
      "source": [
        "# Non-Linear Filters\n",
        "One of the non-linear filters is the median filter. It calculates the median of the kernel region and outputs it as the new pixel:"
      ]
    },
    {
      "cell_type": "code",
      "metadata": {
        "id": "S9hHipQmJ_sA",
        "colab_type": "code",
        "colab": {}
      },
      "source": [
        "filtered = cv2.medianBlur(img, ksize=5)\n",
        "cv2.imshow(filtered)"
      ],
      "execution_count": 0,
      "outputs": []
    },
    {
      "cell_type": "code",
      "metadata": {
        "id": "V8ZU-pHI2D9U",
        "colab_type": "code",
        "colab": {}
      },
      "source": [
        ""
      ],
      "execution_count": 0,
      "outputs": []
    }
  ]
}