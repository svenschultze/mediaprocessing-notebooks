{
  "nbformat": 4,
  "nbformat_minor": 0,
  "metadata": {
    "colab": {
      "name": "Color Models.ipynb",
      "provenance": [],
      "collapsed_sections": [],
      "toc_visible": true,
      "include_colab_link": true
    },
    "kernelspec": {
      "name": "python3",
      "display_name": "Python 3"
    }
  },
  "cells": [
    {
      "cell_type": "markdown",
      "metadata": {
        "id": "view-in-github",
        "colab_type": "text"
      },
      "source": [
        "<a href=\"https://colab.research.google.com/github/svenschultze/mediaprocessing-notebooks/blob/master/2-color-models.ipynb\" target=\"_parent\"><img src=\"https://colab.research.google.com/assets/colab-badge.svg\" alt=\"Open In Colab\"/></a>"
      ]
    },
    {
      "cell_type": "markdown",
      "metadata": {
        "id": "ikm5QvIZxXuH",
        "colab_type": "text"
      },
      "source": [
        "# Color Models"
      ]
    },
    {
      "cell_type": "code",
      "metadata": {
        "id": "sGKMXyhYzxel",
        "colab_type": "code",
        "colab": {}
      },
      "source": [
        "!wget -q --no-check-certificate 'https://drive.google.com/uc?authuser=0&id=1cOM_WnXJnKmNMiE-cPuJhyGt61kEDyoh&export=download' -O 'colabcam.py'\n",
        "import colabcam\n",
        "from matplotlib import pyplot as plt\n",
        "import numpy as np\n",
        "import cv2\n",
        "\n",
        "from google.colab.patches import cv2_imshow\n",
        "cv2.imshow = cv2_imshow"
      ],
      "execution_count": 0,
      "outputs": []
    },
    {
      "cell_type": "markdown",
      "metadata": {
        "id": "wWBvblRTWIJ1",
        "colab_type": "text"
      },
      "source": [
        "First of all, let's take a picture:\n"
      ]
    },
    {
      "cell_type": "code",
      "metadata": {
        "id": "EHVfvaWzz1OM",
        "colab_type": "code",
        "colab": {}
      },
      "source": [
        "img = colabcam.take_photo()\n",
        "cv2.imshow(img)"
      ],
      "execution_count": 0,
      "outputs": []
    },
    {
      "cell_type": "markdown",
      "metadata": {
        "id": "7m8cPpWGe34t",
        "colab_type": "text"
      },
      "source": [
        "# Histogram\n",
        "Histograms are graphical representations of the tonal distribution in a digital image. We can create them with `matplotlib` like this:"
      ]
    },
    {
      "cell_type": "code",
      "metadata": {
        "id": "EGtK0r7M-QLK",
        "colab_type": "code",
        "colab": {}
      },
      "source": [
        "plt.hist(img.ravel(), 256, [0,256])\n",
        "plt.show()"
      ],
      "execution_count": 0,
      "outputs": []
    },
    {
      "cell_type": "markdown",
      "metadata": {
        "id": "Yf4448Bpfqjl",
        "colab_type": "text"
      },
      "source": [
        "#RGB Color Space\n",
        "OpenCV stores images in the BGR format. To convert an image to RGB, we can use the `cvtColor` funktion."
      ]
    },
    {
      "cell_type": "code",
      "metadata": {
        "id": "hxPQOawN-TVh",
        "colab_type": "code",
        "colab": {}
      },
      "source": [
        "rgb = cv2.cvtColor(img, cv2.COLOR_BGR2RGB)\n",
        "\n",
        "r_channel = np.copy(rgb)[:,:,0]\n",
        "g_channel = np.copy(rgb)[:,:,1]\n",
        "b_channel = np.copy(rgb)[:,:,2]\n",
        "\n",
        "vis = np.concatenate((r_channel, g_channel, b_channel), axis=1)\n",
        "cv2.imshow(vis)"
      ],
      "execution_count": 0,
      "outputs": []
    },
    {
      "cell_type": "markdown",
      "metadata": {
        "id": "rHdGr1I6k7Fd",
        "colab_type": "text"
      },
      "source": [
        "## RGB Histograms"
      ]
    },
    {
      "cell_type": "code",
      "metadata": {
        "id": "_yElatBSkstM",
        "colab_type": "code",
        "colab": {}
      },
      "source": [
        "plt.hist(r_channel.ravel(), 256, [0,256])\n",
        "plt.show()\n",
        "plt.hist(g_channel.ravel(), 256, [0,256])\n",
        "plt.show()\n",
        "plt.hist(b_channel.ravel(), 256, [0,256])\n",
        "plt.show()"
      ],
      "execution_count": 0,
      "outputs": []
    },
    {
      "cell_type": "markdown",
      "metadata": {
        "id": "biBVkmo8pWu-",
        "colab_type": "text"
      },
      "source": [
        "# Grayscale\n",
        "To convert an image to grayscale, we can use the formula from the lecture: \n",
        "\n",
        "$Y = Lum(R,G,B) = w_r * R + w_g * G + w_b * B$ \n",
        "\n",
        "with $w_r = 0.299$, $w_g = 0.587$ and $w_b = 0.114$"
      ]
    },
    {
      "cell_type": "code",
      "metadata": {
        "id": "hMYUb3ZqpWPL",
        "colab_type": "code",
        "colab": {}
      },
      "source": [
        "r = rgb[:, :, 0] * 0.299\n",
        "g = rgb[:, :, 1] * 0.587\n",
        "b = rgb[:, :, 2] * 0.114\n",
        "\n",
        "grayscale = r + g + b\n",
        "\n",
        "cv2.imshow(grayscale)"
      ],
      "execution_count": 0,
      "outputs": []
    },
    {
      "cell_type": "markdown",
      "metadata": {
        "id": "DmfOs3vZvZb9",
        "colab_type": "text"
      },
      "source": [
        "Or, we can convert it with the `cvtColor` function from `OpenCV`:"
      ]
    },
    {
      "cell_type": "code",
      "metadata": {
        "id": "L8HKKREbvYuL",
        "colab_type": "code",
        "colab": {}
      },
      "source": [
        "grayscale = cv2.cvtColor(rgb, cv2.COLOR_RGB2GRAY)\n",
        "\n",
        "cv2.imshow(grayscale)"
      ],
      "execution_count": 0,
      "outputs": []
    },
    {
      "cell_type": "markdown",
      "metadata": {
        "id": "daKcRRtPljcQ",
        "colab_type": "text"
      },
      "source": [
        "# HSV Color Space\n",
        "Another color space is HSV (Hue, Saturation, Value). Again, we can convert our image with the `cvtColor` function:"
      ]
    },
    {
      "cell_type": "code",
      "metadata": {
        "id": "7kFhmwMRgUC8",
        "colab_type": "code",
        "colab": {}
      },
      "source": [
        "hsv = cv2.cvtColor(img, cv2.COLOR_BGR2HSV)\n",
        "\n",
        "h_channel = np.copy(hsv)[:,:,0]\n",
        "s_channel = np.copy(hsv)[:,:,1]\n",
        "v_channel = np.copy(hsv)[:,:,2]\n",
        "\n",
        "vis = np.concatenate((h_channel, s_channel, v_channel), axis=1)\n",
        "cv2.imshow(vis)"
      ],
      "execution_count": 0,
      "outputs": []
    },
    {
      "cell_type": "code",
      "metadata": {
        "id": "-IBgUyyXn303",
        "colab_type": "code",
        "colab": {}
      },
      "source": [
        ""
      ],
      "execution_count": 0,
      "outputs": []
    }
  ]
}