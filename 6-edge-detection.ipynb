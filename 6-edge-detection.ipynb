{
  "nbformat": 4,
  "nbformat_minor": 0,
  "metadata": {
    "colab": {
      "name": "Edge Detection.ipynb",
      "provenance": [],
      "collapsed_sections": [],
      "include_colab_link": true
    },
    "kernelspec": {
      "name": "python3",
      "display_name": "Python 3"
    }
  },
  "cells": [
    {
      "cell_type": "markdown",
      "metadata": {
        "id": "view-in-github",
        "colab_type": "text"
      },
      "source": [
        "<a href=\"https://colab.research.google.com/github/svenschultze/mediaprocessing-notebooks/blob/master/6-edge-detection.ipynb\" target=\"_parent\"><img src=\"https://colab.research.google.com/assets/colab-badge.svg\" alt=\"Open In Colab\"/></a>"
      ]
    },
    {
      "cell_type": "markdown",
      "metadata": {
        "id": "IoF52_wkIEBn",
        "colab_type": "text"
      },
      "source": [
        "# Edge Detection"
      ]
    },
    {
      "cell_type": "code",
      "metadata": {
        "id": "sGKMXyhYzxel",
        "colab_type": "code",
        "colab": {}
      },
      "source": [
        "!wget -q https://raw.githubusercontent.com/svenschultze/mediaprocessing-notebooks/master/colabcam.py\n",
        "import colabcam\n",
        "from matplotlib import pyplot as plt\n",
        "import numpy as np\n",
        "import cv2\n",
        "\n",
        "from google.colab.patches import cv2_imshow\n",
        "cv2.imshow = cv2_imshow"
      ],
      "execution_count": 0,
      "outputs": []
    },
    {
      "cell_type": "markdown",
      "metadata": {
        "id": "wWBvblRTWIJ1",
        "colab_type": "text"
      },
      "source": [
        "First of all, let's take a picture:\n"
      ]
    },
    {
      "cell_type": "code",
      "metadata": {
        "id": "EHVfvaWzz1OM",
        "colab_type": "code",
        "colab": {}
      },
      "source": [
        "img = colabcam.take_photo()\n",
        "cv2.imshow(img)"
      ],
      "execution_count": 0,
      "outputs": []
    },
    {
      "cell_type": "markdown",
      "metadata": {
        "id": "py_kTLE8Sadh",
        "colab_type": "text"
      },
      "source": [
        "# Custom Filters\n",
        "In OpenCV, we can define a custom filter like this:"
      ]
    },
    {
      "cell_type": "code",
      "metadata": {
        "id": "5jFSPKuAoe6V",
        "colab_type": "code",
        "colab": {}
      },
      "source": [
        "kernel = np.array([\n",
        "    [1, 0, 0],\n",
        "    [0, 1, 0],\n",
        "    [0, 0, 1]\n",
        "])\n",
        "kernel = kernel / kernel.sum()\n",
        "filtered = cv2.filter2D(img, cv2.CV_16S, kernel)\n",
        "cv2.imshow(filtered)"
      ],
      "execution_count": 0,
      "outputs": []
    },
    {
      "cell_type": "markdown",
      "metadata": {
        "id": "rjFe1Ojgt_Qn",
        "colab_type": "text"
      },
      "source": [
        "# Derivation Filters\n",
        "The derivation of an image can be approximated with these filters to find edges:\n",
        "- Derivation filter for the horizontal direction: <br>\n",
        "$\n",
        "\\begin{bmatrix}\n",
        "-1 & 0 & 1\n",
        "\\end{bmatrix}\n",
        "$\n",
        "- Derivation filter for the vertical direction: <br>\n",
        "$\n",
        "\\begin{bmatrix}\n",
        "-1 \\\\\n",
        "0 \\\\\n",
        "1\n",
        "\\end{bmatrix}\n",
        "$\n",
        "\n",
        "We apply these filters to the image seperately, and use the absolute values of the results to approximate the derivation in both the X and the Y direction."
      ]
    },
    {
      "cell_type": "code",
      "metadata": {
        "id": "R6FUbRqqtEKU",
        "colab_type": "code",
        "colab": {}
      },
      "source": [
        "kernel_horizontal = np.array([\n",
        "    [-1, 0, 1]\n",
        "])\n",
        "derivation_horizontal = cv2.filter2D(img, cv2.CV_16S, kernel_horizontal)\n",
        "derivation_horizontal = np.absolute(derivation_horizontal)\n",
        "\n",
        "kernel_vertical = np.array([\n",
        "    [-1],\n",
        "    [ 0],\n",
        "    [ 1]\n",
        "])\n",
        "derivation_vertical = cv2.filter2D(img, cv2.CV_16S, kernel_vertical)\n",
        "derivation_vertical = np.absolute(derivation_vertical)\n",
        "\n",
        "derivation = 3 * np.add(derivation_horizontal, derivation_vertical)\n",
        "\n",
        "cv2.imshow(derivation)"
      ],
      "execution_count": 0,
      "outputs": []
    },
    {
      "cell_type": "markdown",
      "metadata": {
        "id": "rIkXH36rrH4C",
        "colab_type": "text"
      },
      "source": [
        "# Prewitt Operator\n",
        "The **Prewitt Operator** expands on the derivation by adding **rows** or **columns** to the respective kernel in **horizontal** or **vertical** direction.  \n",
        "The new filters look like this:  \n",
        "Horizontal: \n",
        "$\n",
        "H^P_x =\\begin{bmatrix}\n",
        "-1 & 0 & 1 \\\\\n",
        "-1 & 0 & 1 \\\\\n",
        "-1 & 0 & 1\n",
        "\\end{bmatrix}\n",
        "$&nbsp;&nbsp;&nbsp;&nbsp;&nbsp;&nbsp;&nbsp;&nbsp;&nbsp;&nbsp;&nbsp;\n",
        "Vertical: \n",
        "$\n",
        "H^P_y =\\begin{bmatrix}\n",
        "-1 & -1 & -1 \\\\\n",
        "0 & 0 & 0 \\\\\n",
        "1 & 1 & 1\n",
        "\\end{bmatrix}\n",
        "$  \n",
        "Now, we can apply these filters to the image in the same way as before:"
      ]
    },
    {
      "cell_type": "code",
      "metadata": {
        "id": "-IBgUyyXn303",
        "colab_type": "code",
        "colab": {}
      },
      "source": [
        "kernel_horizontal = np.array([\n",
        "    [1, 0, -1],\n",
        "    [1, 0, -1],\n",
        "    [1, 0, -1]\n",
        "])\n",
        "edges_horizontal = cv2.filter2D(img, cv2.CV_16S, kernel_horizontal)\n",
        "edges_horizontal = np.absolute(edges_horizontal)\n",
        "\n",
        "kernel_vertical = np.array([\n",
        "    [ 1,  1,  1],\n",
        "    [ 0,  0,  0],\n",
        "    [-1, -1, -1]\n",
        "])\n",
        "edges_vertical = cv2.filter2D(img, cv2.CV_16S, kernel_vertical)\n",
        "edges_vertical = np.absolute(edges_vertical)\n",
        "\n",
        "edges = np.add(edges_horizontal, edges_vertical)\n",
        "\n",
        "cv2.imshow(edges)"
      ],
      "execution_count": 0,
      "outputs": []
    },
    {
      "cell_type": "markdown",
      "metadata": {
        "id": "imR6l3iDGHfy",
        "colab_type": "text"
      },
      "source": [
        "# Sobel Operator\n",
        "The **Sobel Operator** is comparable to the **Prewitt Operator**, but it puts a stronger emphasis on the **central rows** and **columns**:  \n",
        "Horizontal: \n",
        "$\n",
        "H^S_x =\\begin{bmatrix}\n",
        "-1 & 0 & 1 \\\\\n",
        "-2 & 0 & 2 \\\\\n",
        "-1 & 0 & 1\n",
        "\\end{bmatrix}\n",
        "$&nbsp;&nbsp;&nbsp;&nbsp;&nbsp;&nbsp;&nbsp;&nbsp;&nbsp;&nbsp;&nbsp;\n",
        "Vertical: \n",
        "$\n",
        "H^S_y =\\begin{bmatrix}\n",
        "-1 & -2 & -1 \\\\\n",
        "0 & 0 & 0 \\\\\n",
        "1 & 2 & 1\n",
        "\\end{bmatrix}\n",
        "$\n",
        "\n",
        "Now, we can apply these filters to the image in the same way as before:"
      ]
    },
    {
      "cell_type": "code",
      "metadata": {
        "id": "pxl525zWTk_f",
        "colab_type": "code",
        "colab": {}
      },
      "source": [
        "kernel_horizontal = np.array([\n",
        "    [1, 0, -1],\n",
        "    [2, 0, -2],\n",
        "    [1, 0, -1]\n",
        "])\n",
        "edges_horizontal = cv2.filter2D(img, cv2.CV_16S, kernel_horizontal)\n",
        "edges_horizontal = np.absolute(edges_horizontal)\n",
        "\n",
        "kernel_vertical = np.array([\n",
        "    [ 1,  2,  1],\n",
        "    [ 0,  0,  0],\n",
        "    [-1, -2, -1]\n",
        "])\n",
        "edges_vertical = cv2.filter2D(img, cv2.CV_16S, kernel_vertical)\n",
        "edges_vertical = np.absolute(edges_vertical)\n",
        "\n",
        "edges = np.add(edges_horizontal, edges_vertical)\n",
        "\n",
        "cv2.imshow(edges)"
      ],
      "execution_count": 0,
      "outputs": []
    },
    {
      "cell_type": "markdown",
      "metadata": {
        "id": "V2bHx9WSJ6SU",
        "colab_type": "text"
      },
      "source": [
        "# Edge Detection with Canny\n",
        "The **Canny Algorithm** aims to **localize** the edges in an image **more accurately**. \n",
        "To ensure, that an edge is not wider than a single pixel, Canny searches for **local maximums** in edge strength.  \n",
        ">**For each pixel**, Canny checks whether its **adjacent pixels** have a higher **edge\n",
        "strength** than the pixel itself.  \n",
        "**If** this is the case, its **edge strength** is set to **0**.  \n",
        "\n",
        "Then, a **thresholding** procedure is used to **discretize** the values into a **binary** map:\n",
        "> We define the two **thresholds** $T_{low}$ and $T_{high}$ as **parameters** of the Canny Algorithm.\n",
        "- **If** a local maximum is above $T_{high}$, it is instantly **detected** as edge pixel\n",
        "- **If** a local maximum is below $T_{low}$, it is instantly **rejected** as edge pixel\n",
        "- **If** a local maximum is between $T_{low}$ and $T_{high}$, it is **accepted**, **if** there is a **path** of pixels with $f(x_i, y_i) > T_{low}$ to a pixel with $f(x, y) > T_{high}$\n",
        "\n",
        "In OpenCV, we can use this function to easily apply the Canny Edge Detection to an image:\n",
        "\n",
        "$\\text{cv2.Canny}(\\text{image}, T_{low}, T_{high})$\n"
      ]
    },
    {
      "cell_type": "code",
      "metadata": {
        "id": "xFMD3TBepsz4",
        "colab_type": "code",
        "colab": {}
      },
      "source": [
        "canny = cv2.Canny(img, 100, 200)\n",
        "cv2.imshow(canny)"
      ],
      "execution_count": 0,
      "outputs": []
    },
    {
      "cell_type": "code",
      "metadata": {
        "id": "S9hHipQmJ_sA",
        "colab_type": "code",
        "colab": {}
      },
      "source": [
        ""
      ],
      "execution_count": 0,
      "outputs": []
    }
  ]
}